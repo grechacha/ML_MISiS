{
 "cells": [
  {
   "cell_type": "code",
   "execution_count": null,
   "metadata": {},
   "outputs": [],
   "source": [
    "#импорт необходимых библиотек:\n",
    "#sklearn.neighbors - для реализации метода kNN\n",
    "#numpy - для работы с данными в векторизованном формате\n",
    "#пандас - для считывания данных формата csv и построения первых выводов о нашей выборке\n",
    "import warnings\n",
    "warnings.filterwarnings('ignore')\n",
    "from sklearn import neighbors\n",
    "import numpy as np\n",
    "import pandas as pd\n",
    "from sklearn.model_selection import train_test_split\n",
    "from sklearn.model_selection import cross_validate\n",
    "from sklearn.model_selection import GridSearchCV\n",
    "from sklearn.preprocessing import StandardScaler\n",
    "import matplotlib.pyplot as plt"
   ]
  },
  {
   "cell_type": "code",
   "execution_count": null,
   "metadata": {},
   "outputs": [],
   "source": [
    "df = pd.read_csv('advert.csv') #считываем данные из файла"
   ]
  },
  {
   "cell_type": "code",
   "execution_count": null,
   "metadata": {},
   "outputs": [],
   "source": [
    "df.head() #первые пять строк "
   ]
  },
  {
   "cell_type": "markdown",
   "metadata": {},
   "source": [
    "Строго говоря, первые пять строк нам могут лишь показать совсем малую часть информации, которую содержит наша выборка. Конкретно в этом случае, видим, что ключевым признаком является столбец Sales_success. Два других - TV и Newspaper являются признаками, на которых будет обучаться наша модель. Для того, чтобы алгоритм kNN, да и вообще любой алгоритм работал корректно, необходимо провести анализ и соответствующую предобработку данных. Так как признаков в нашей выборке не так много, для анализа достаточно вывести на экран распределение наших признаков по выборке."
   ]
  },
  {
   "cell_type": "code",
   "execution_count": null,
   "metadata": {},
   "outputs": [],
   "source": [
    "plt.figure()\n",
    "df.drop(columns = ['Sales_success']).plot(figsize = (20,10))"
   ]
  },
  {
   "cell_type": "markdown",
   "metadata": {},
   "source": [
    "На приведенном выше графике явно заметно, что признаки, на которых будет обучаться наша модель независимы друг от друга, иначе говоря, отсутствует какая-либо корреляция между ними, но вот масштаб явно разный, подтвердим это конкретными цифрами:"
   ]
  },
  {
   "cell_type": "markdown",
   "metadata": {},
   "source": [
    "##### Максимальные и минимальные значения признаков"
   ]
  },
  {
   "cell_type": "code",
   "execution_count": null,
   "metadata": {},
   "outputs": [],
   "source": [
    "print('TV max =', df['TV'].max())\n",
    "print('TV min =', df['TV'].min())\n",
    "print('Newspaper max =', df['Newspaper'].max())\n",
    "print('Newspaper min =', df['Newspaper'].min())\n",
    "print('TV mean =', df['TV'].mean())\n",
    "print('Newspaper mean =', df['Newspaper'].mean())"
   ]
  },
  {
   "cell_type": "markdown",
   "metadata": {},
   "source": [
    "И действительно, разница между максимальными и средними значениями велика. Отсутствие разницы между минимальными значениями при наличии вышеупомянутых аргументов - не критично, так как уже в любом случае необходимо произвести предобработку наших данных.\n",
    "Кроме того, для того, чтобы определить оптимальное количество ближайших соседей, мы воспользуемся таким способом подбора k, как grid search, а также кросс-валидацией, для оптимизации тренировочного процесса, ну и  разделим наш датасет на тренировочную и тестовую выборки, для того, чтобы в последствии оценить работу алгоритма."
   ]
  },
  {
   "cell_type": "code",
   "execution_count": null,
   "metadata": {},
   "outputs": [],
   "source": [
    "#создаем тренировочную и тестовую выборки в нужном нам форматах\n",
    "X = np.array(df.drop(columns = ['Sales_success']))\n",
    "Y = np.array(df['Sales_success']).reshape((200,1))\n",
    "scaler = StandardScaler()\n",
    "X_scaled = scaler.fit_transform(X,Y)\n",
    "X_train, X_test, Y_train, Y_test = train_test_split(X_scaled,Y, test_size = 0.2)\n",
    "#print(X[:,0].min(),X[:,0].max())\n",
    "#print(X[:,1].min(),X[:,1].max())\n",
    "print('X_train shape =',X_train.shape)\n",
    "print('X_test shape =',X_test.shape)\n",
    "print('Y_train shape =', Y_train.shape)\n",
    "print('Y_test shape =',Y_test.shape)\n",
    "print('Вывод уникальных значений ключевого признака :',np.unique(Y))\n",
    "print('Баланс классов :',list(Y).count(0),list(Y).count(1))"
   ]
  },
  {
   "cell_type": "code",
   "execution_count": null,
   "metadata": {},
   "outputs": [],
   "source": [
    "#создаем model instance\n",
    "kNN = neighbors.KNeighborsClassifier()\n",
    "#количество параметров в нашей сетке (количество проверяемых значений k)\n",
    "param_grid = {'n_neighbors': np.arange(1, 25)}\n",
    "#тренируем модель на вышеобозначенной сетке\n",
    "kNN_gscv = GridSearchCV(kNN, param_grid, cv=5)\n",
    "kNN_gscv.fit(X_train, Y_train)"
   ]
  },
  {
   "cell_type": "code",
   "execution_count": null,
   "metadata": {},
   "outputs": [],
   "source": [
    "print(kNN_gscv.best_score_)\n",
    "print(kNN_gscv.best_params_)"
   ]
  },
  {
   "cell_type": "code",
   "execution_count": null,
   "metadata": {},
   "outputs": [],
   "source": [
    "kNN_gscv.score(X_test, Y_test)"
   ]
  },
  {
   "cell_type": "code",
   "execution_count": null,
   "metadata": {},
   "outputs": [],
   "source": [
    "def get_graph_params(grid_scores_list):\n",
    "    params_list = np.zeros((len(grid_scores_list),2))\n",
    "    for i in range(len(grid_scores_list)):\n",
    "        params_list[i][0] = grid_scores_list[i][1]\n",
    "        params_list[i][1] = (i + 1)\n",
    "    return params_list"
   ]
  },
  {
   "cell_type": "code",
   "execution_count": null,
   "metadata": {},
   "outputs": [],
   "source": [
    "param_list = get_graph_params(kNN_gscv.grid_scores_)"
   ]
  },
  {
   "cell_type": "code",
   "execution_count": null,
   "metadata": {},
   "outputs": [],
   "source": [
    "#выводим на экран график accuracy в зависимости от числа соседей\n",
    "%matplotlib inline\n",
    "fig = plt.figure(figsize=(12,8))\n",
    "plt.xlabel('Значения параметра k')\n",
    "plt.ylabel('Значение accuracy, соответствующее значению k')\n",
    "plt.plot(param_list[:,1],param_list[:,0], markevery = [list(param_list[:,0]).index(param_list[:,0].max())], marker=\"o\")\n",
    "plt.show()"
   ]
  },
  {
   "cell_type": "code",
   "execution_count": null,
   "metadata": {},
   "outputs": [],
   "source": [
    "print(__doc__)\n",
    "\n",
    "import numpy as np\n",
    "import matplotlib.pyplot as plt\n",
    "from matplotlib.colors import ListedColormap\n",
    "from sklearn import neighbors, datasets\n",
    "\n",
    "n_neighbors = kNN_gscv.best_params_.get('n_neighbors')\n",
    "\n",
    "h = .02  # step size in the mesh\n",
    "\n",
    "# Create color maps\n",
    "cmap_light = ListedColormap(['#FFAAAA', '#AAFFAA', '#AAAAFF'])\n",
    "cmap_bold = ListedColormap(['#FF0000', '#00FF00', '#0000FF'])\n",
    "\n",
    "\n",
    "# we create an instance of Neighbours Classifier and fit the data.\n",
    "clf = neighbors.KNeighborsClassifier(n_neighbors = n_neighbors)\n",
    "clf.fit(X_train, Y_train)\n",
    "\n",
    "# Plot the decision boundary. For that, we will assign a color to each\n",
    "# point in the mesh [x_min, x_max]x[y_min, y_max].\n",
    "x_min, x_max = X[:, 0].min() - 1, X[:, 0].max() + 1\n",
    "y_min, y_max = X[:, 1].min() - 1, X[:, 1].max() + 1\n",
    "xx, yy = np.meshgrid(np.arange(x_min, x_max, h),\n",
    "                         np.arange(y_min, y_max, h))\n",
    "Z = clf.predict(np.c_[xx.ravel(), yy.ravel()])\n",
    "shaped = Y.reshape(200,)\n",
    "# Put the result into a color plot\n",
    "Z = Z.reshape(xx.shape)\n",
    "plt.figure(figsize = (12,12))\n",
    "plt.pcolormesh(xx, yy, Z, cmap=cmap_light)\n",
    "\n",
    "# Plot also the training points\n",
    "plt.scatter(X[:, 0], X[:, 1], c = shaped, cmap=cmap_bold,\n",
    "                edgecolor='k', s=20)\n",
    "plt.xlim(xx.min(), xx.max())\n",
    "plt.ylim(yy.min(), yy.max())\n",
    "plt.title(\"2-Class classification (k = %i, weights = '%s')\"\n",
    "              % (19, weights))\n",
    "\n",
    "plt.show()"
   ]
  },
  {
   "cell_type": "code",
   "execution_count": null,
   "metadata": {},
   "outputs": [],
   "source": []
  }
 ],
 "metadata": {
  "kernelspec": {
   "display_name": "Python 3",
   "language": "python",
   "name": "python3"
  },
  "language_info": {
   "codemirror_mode": {
    "name": "ipython",
    "version": 3
   },
   "file_extension": ".py",
   "mimetype": "text/x-python",
   "name": "python",
   "nbconvert_exporter": "python",
   "pygments_lexer": "ipython3",
   "version": "3.7.0"
  }
 },
 "nbformat": 4,
 "nbformat_minor": 2
}
